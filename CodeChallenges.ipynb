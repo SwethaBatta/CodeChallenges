{
 "cells": [
  {
   "cell_type": "markdown",
   "metadata": {},
   "source": [
    "# 1) Input Statistics"
   ]
  },
  {
   "cell_type": "markdown",
   "metadata": {},
   "source": [
    "### Accepts numeric input of varying sizes and finds the lowest, highest and average number from the input"
   ]
  },
  {
   "cell_type": "code",
   "execution_count": 1,
   "metadata": {},
   "outputs": [
    {
     "name": "stdout",
     "output_type": "stream",
     "text": [
      "Enter numbers separated by space: 30 50 20\n",
      "\n",
      "\n",
      "All entered numbers  ['30', '50', '20']\n",
      "Sum of all entered numbers =  100\n",
      "Average of all entered numbers =  33.33\n",
      "Highest =  50\n",
      "Lowest =  20\n"
     ]
    }
   ],
   "source": [
    "import sys\n",
    "\n",
    "class InputStats(object):\n",
    "    def isValidList(self, numbersList):\n",
    "        isValid = True\n",
    "        error = []\n",
    "        \n",
    "        \n",
    "        if len(numbersList) == 0:\n",
    "            return [False, 'No input is given!']\n",
    "        \n",
    "        for val in numbersList:\n",
    "            try:\n",
    "                num = int(val)\n",
    "                if num > sys.maxsize or num < -sys.maxsize:\n",
    "                    isValid = False\n",
    "                    error.append(f'Input \"{val}\" is out of range') \n",
    "            \n",
    "            except ValueError:\n",
    "                isValid = False\n",
    "                try:\n",
    "                    error.append(f'Input \"{val}\" is of datatype {eval(val).__class__.__name__}')\n",
    "                \n",
    "                except NameError:\n",
    "                    error.append(f'Input \"{val}\" is of datatype string') \n",
    "                    \n",
    "                except SyntaxError:\n",
    "                    error.append(f'Input \"{val}\" is an invalid character') \n",
    "\n",
    "                \n",
    "        return [isValid, error]\n",
    "\n",
    "    def inputStatistics(self, numbersStringList):\n",
    "        print(\"\\n\")\n",
    "        print(\"All entered numbers \", numbersStringList)\n",
    "\n",
    "        numbersList = [int(numeric_string) for numeric_string in numbersStringList]\n",
    "\n",
    "        # Calculating the sum of all user entered numbers\n",
    "        numbersListSum = 0\n",
    "        for num in numbersList:\n",
    "            numbersListSum += num\n",
    "        print(\"Sum of all entered numbers = \", numbersListSum)\n",
    "\n",
    "        # Calculating the average of all user entered numbers\n",
    "        average = numbersListSum / len(numbersList)\n",
    "            \n",
    "        print(\"Average of all entered numbers = \", round(average, 2))\n",
    "\n",
    "        # Sorting the list to retrieve highest and lowest values\n",
    "        numbersList.sort()\n",
    "        print(\"Highest = \", numbersList[-1])\n",
    "        print(\"Lowest = \", numbersList[0])\n",
    "\n",
    "    def processInput(self, numbersStringList):\n",
    "        if inpStats.isValidList(numbersStringList)[0]:\n",
    "            inpStats.inputStatistics(numbersStringList)\n",
    "        else:\n",
    "            print(f\"The given input contains the below errors:  \\n{inpStats.isValidList(numbersStringList)[1]}\\n\\nPlease enter only integer values\")\n",
    "\n",
    "        \n",
    "if __name__ == '__main__':\n",
    "    inpStats = InputStats() \n",
    "    numbersStringList = input(\"Enter numbers separated by space: \").split()   \n",
    "    \n",
    "    inpStats.processInput(numbersStringList)\n",
    "\n",
    "    \n",
    "    '''\n",
    "    try:\n",
    "        numbers = [int(x) for x in input(\"Enter numbers separated by space: \").split()]\n",
    "        inpStats.inputStatistics(numbers)\n",
    "    except ValueError:\n",
    "         print(f\"The list contains the below invalid inputs with datatypes\")\n",
    "    '''"
   ]
  },
  {
   "cell_type": "markdown",
   "metadata": {},
   "source": [
    "## Tests for Input Statistics"
   ]
  },
  {
   "cell_type": "code",
   "execution_count": 2,
   "metadata": {},
   "outputs": [
    {
     "name": "stdout",
     "output_type": "stream",
     "text": [
      "\n",
      "\n",
      "All entered numbers  ['10', '20', '30']\n",
      "Sum of all entered numbers =  60\n",
      "Average of all entered numbers =  20.0\n",
      "Highest =  30\n",
      "Lowest =  10\n",
      "\n",
      "\n",
      "All entered numbers  ['10', '10']\n",
      "Sum of all entered numbers =  20\n",
      "Average of all entered numbers =  10.0\n",
      "Highest =  10\n",
      "Lowest =  10\n",
      "The given input contains the below errors:  \n",
      "['Input \"f\" is of datatype string']\n",
      "\n",
      "Please enter only integer values\n",
      "\n",
      "\n",
      "All entered numbers  ['-2', '-4', '-30', '-100']\n",
      "Sum of all entered numbers =  -136\n",
      "Average of all entered numbers =  -34.0\n",
      "Highest =  -2\n",
      "Lowest =  -100\n",
      "The given input contains the below errors:  \n",
      "['Input \"dfdf\" is of datatype string', 'Input \"True\" is of datatype bool', 'Input \"3.5\" is of datatype float']\n",
      "\n",
      "Please enter only integer values\n",
      "The given input contains the below errors:  \n",
      "['Input \"9223372036854775808\" is out of range']\n",
      "\n",
      "Please enter only integer values\n",
      "The given input contains the below errors:  \n",
      "No input is given!\n",
      "\n",
      "Please enter only integer values\n",
      "The given input contains the below errors:  \n",
      "['Input \"66.5\" is of datatype float']\n",
      "\n",
      "Please enter only integer values\n",
      "The given input contains the below errors:  \n",
      "['Input \"$\" is an invalid character']\n",
      "\n",
      "Please enter only integer values\n"
     ]
    }
   ],
   "source": [
    "inpStats.processInput(list(map(str,[10, 20, 30])))\n",
    "inpStats.processInput(list(map(str,[10, 10])))\n",
    "inpStats.processInput(list(map(str,[10, 'f', 30])))\n",
    "inpStats.processInput(list(map(str,[-2, -4, -30, -100])))\n",
    "inpStats.processInput(list(map(str,[10, 'dfdf', True, 3.5])))\n",
    "inpStats.processInput(list(map(str,[10, 9223372036854775808])))\n",
    "inpStats.processInput([])\n",
    "inpStats.processInput(list(map(str,[1, 2, 3, 4, 5, 70, 30, 50, 100, 30, 70, 55, 66.5])))\n",
    "inpStats.processInput([10,  29, '$'])\n"
   ]
  },
  {
   "cell_type": "markdown",
   "metadata": {},
   "source": [
    "# 2) Largest Prime factor"
   ]
  },
  {
   "cell_type": "markdown",
   "metadata": {},
   "source": [
    "### Finds the largest prime factor of a given number"
   ]
  },
  {
   "cell_type": "code",
   "execution_count": 3,
   "metadata": {},
   "outputs": [
    {
     "name": "stdout",
     "output_type": "stream",
     "text": [
      "Largest prime factor of 330 :  11\n"
     ]
    }
   ],
   "source": [
    "import math\n",
    "import sys\n",
    "\n",
    "\n",
    "class LargestPrimeFactor(object):\n",
    "    def __init__(self):\n",
    "        pass\n",
    "\n",
    "    def validNumber(self, num : int):\n",
    "        return num > 0 and num < sys.maxsize and num > -sys.maxsize and isinstance(num, int)\n",
    "        \n",
    "    def largestPrimeFactor(self, num):\n",
    "        maxPrimeFactor = -1\n",
    "        inputNum = num\n",
    "        \n",
    "        if not self.validNumber(num):\n",
    "            return (f\"Largest prime factor of {inputNum} : Not a valid value. Try again!\")\n",
    "        \n",
    "        #If number is even, 2 is the maximum prime factor\n",
    "        while num%2 == 0:\n",
    "            maxPrimeFactor = 2\n",
    "            num /= 2\n",
    "            \n",
    "        #If not even, this odd loop executes to find the maximum prime factor\n",
    "        for i in range(3, int(math.sqrt(num))+1, 2):\n",
    "            while num % i == 0:\n",
    "                maxPrimeFactor = i\n",
    "                num /= i\n",
    "        \n",
    "        #If number not equal to 1\n",
    "        if num != 1:\n",
    "            maxPrimeFactor = num\n",
    "        \n",
    "        return (f'Largest prime factor of {inputNum} :  {int(maxPrimeFactor)}')\n",
    "\n",
    "\n",
    "if __name__ == '__main__':\n",
    "    lpf = LargestPrimeFactor() \n",
    "    print(lpf.largestPrimeFactor(330))"
   ]
  },
  {
   "cell_type": "markdown",
   "metadata": {},
   "source": [
    "# Tests for Largest prime factor"
   ]
  },
  {
   "cell_type": "code",
   "execution_count": 4,
   "metadata": {},
   "outputs": [
    {
     "name": "stdout",
     "output_type": "stream",
     "text": [
      "Largest prime factor of 18 :  3\n",
      "Largest prime factor of 0 : Not a valid value. Try again!\n",
      "Largest prime factor of 1 :  -1\n",
      "Largest prime factor of 15 :  5\n",
      "Largest prime factor of 9223372036854775808 : Not a valid value. Try again!\n",
      "Largest prime factor of -9223372036854775808 : Not a valid value. Try again!\n",
      "Largest prime factor of 15.0 : Not a valid value. Try again!\n",
      "Largest prime factor of 15.5 : Not a valid value. Try again!\n",
      "Largest prime factor of 550 :  11\n",
      "Largest prime factor of 1010101010 :  9091\n",
      "Largest prime factor of -550 : Not a valid value. Try again!\n",
      "Largest prime factor of 600851475143 :  6857\n"
     ]
    }
   ],
   "source": [
    "print(lpf.largestPrimeFactor(18))\n",
    "print(lpf.largestPrimeFactor(0))\n",
    "print(lpf.largestPrimeFactor(1))\n",
    "print(lpf.largestPrimeFactor(15))\n",
    "\n",
    "print(lpf.largestPrimeFactor(9223372036854775808))\n",
    "print(lpf.largestPrimeFactor(-9223372036854775808))\n",
    "print(lpf.largestPrimeFactor(15.0))\n",
    "print(lpf.largestPrimeFactor(15.5))\n",
    "print(lpf.largestPrimeFactor(550))\n",
    "print(lpf.largestPrimeFactor(1010101010))\n",
    "print(lpf.largestPrimeFactor(-550))\n",
    "print(lpf.largestPrimeFactor(600851475143))"
   ]
  },
  {
   "cell_type": "markdown",
   "metadata": {},
   "source": [
    "# 3) Roll two dice"
   ]
  },
  {
   "cell_type": "markdown",
   "metadata": {},
   "source": [
    "### Outputs the value of two die and their sum along with messages for special cases"
   ]
  },
  {
   "cell_type": "code",
   "execution_count": 5,
   "metadata": {},
   "outputs": [],
   "source": [
    "import tkinter\n",
    "import random\n",
    "\n",
    "# toplevel widget of Tk which represents mostly the main window of an application\n",
    "root = tkinter.Tk()\n",
    "root.geometry('600x600')\n",
    "root.title('Roll Dice')\n",
    "    \n",
    "# label to display dice\n",
    "label = tkinter.Label(root, text='', font=('Helvetica', 260))\n",
    "roll_label = tkinter.Label(root, text='', font=('Helvetica', 25))\n",
    "    \n",
    "class RollTwoDice(object):\n",
    "    \n",
    "    def __init__(self):\n",
    "        self.firstDice = {}\n",
    "        self.secondDice = {}\n",
    "        self.total = 0\n",
    "        self.specialCase = ''\n",
    "        self.dice = [{\"val\": 1, \"img\": '\\u2680'}, {\"val\": 2, \"img\": '\\u2681'}, {\"val\": 3, \"img\": '\\u2682'}, {\"val\":4, \"img\": '\\u2683'}, {\"val\":5, \"img\": '\\u2684'}, {\"val\":6, \"img\": '\\u2685'}]\n",
    "        self.label = label\n",
    "        self.roll_label = roll_label\n",
    "\n",
    "\n",
    "    def computeTotal(self):\n",
    "        self.total = int(self.firstDice['val'])+int(self.secondDice['val'])\n",
    "               \n",
    "    def caseSnakeEyes(self):\n",
    "        if int(self.firstDice['val']) == int(self.secondDice['val']) == 1:\n",
    "            self.specialCase = 'Snake Eyes'    \n",
    "                    \n",
    "    def caseLucky7(self):\n",
    "        if self.total == 7:\n",
    "            self.specialCase = 'Lucky 7' \n",
    "    \n",
    "    def diceValues(self):\n",
    "        # unicode character strings for dice\n",
    "        self.firstDice = random.choice(self.dice)\n",
    "        self.secondDice = random.choice(self.dice)\n",
    "                \n",
    "    # function activated by button\n",
    "    def roll_dice(self):\n",
    "        self.diceValues()\n",
    "        self.computeTotal()\n",
    "        self.caseSnakeEyes()\n",
    "        self.caseLucky7()\n",
    "         \n",
    "        #Dice image display \n",
    "        self.label.configure(text=f\"{self.firstDice['img']} {self.secondDice['img']}\")    \n",
    "        self.label.pack()\n",
    "        \n",
    "        #Score display\n",
    "        self.roll_label.configure(text=f\"First Dice: {self.firstDice['val']} \\t Second Dice: {self.secondDice['val']} \\n\\n Total: {self.total} \\n\\n {self.specialCase}\")    \n",
    "        self.roll_label.pack()\n",
    "        \n",
    "        #Resetting to initial state\n",
    "        self.specialCase = ''\n",
    "\n",
    "if __name__ == '__main__':\n",
    "    rtd = RollTwoDice()\n",
    "  \n",
    "    # button\n",
    "    button = tkinter.Button(root, text='Roll dice', foreground='green', command=rtd.roll_dice)\n",
    "    # pack a widget in the parent widget\n",
    "    button.pack()  \n",
    "    # call the mainloop of Tk\n",
    "    # keeps window open\n",
    "    root.mainloop()"
   ]
  },
  {
   "cell_type": "markdown",
   "metadata": {},
   "source": [
    "## Please refer to unitTests_RollTwoDice.py for the tests"
   ]
  },
  {
   "cell_type": "code",
   "execution_count": null,
   "metadata": {},
   "outputs": [],
   "source": []
  }
 ],
 "metadata": {
  "kernelspec": {
   "display_name": "Python 3",
   "language": "python",
   "name": "python3"
  },
  "language_info": {
   "codemirror_mode": {
    "name": "ipython",
    "version": 3
   },
   "file_extension": ".py",
   "mimetype": "text/x-python",
   "name": "python",
   "nbconvert_exporter": "python",
   "pygments_lexer": "ipython3",
   "version": "3.7.1"
  }
 },
 "nbformat": 4,
 "nbformat_minor": 2
}
